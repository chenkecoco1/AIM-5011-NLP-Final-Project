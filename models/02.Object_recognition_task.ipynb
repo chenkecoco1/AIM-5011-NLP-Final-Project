{
 "cells": [
  {
   "cell_type": "markdown",
   "id": "fbe63390",
   "metadata": {},
   "source": [
    "## Hate Meme Recognition Naive Bayes Model\n",
    "The Naive Bayes Model will be using the memes object recoginition from Google API. The original dataset was Facebook dataset. All processed memes data were saved in .json files. All files will be included for model training. After training the Naive Bayes model, the self-labeled dataset will be used of testing.\n",
    "\n",
    "### Data Preprocessing"
   ]
  },
  {
   "cell_type": "code",
   "execution_count": 1,
   "id": "82ac2c7b",
   "metadata": {},
   "outputs": [
    {
     "name": "stdout",
     "output_type": "stream",
     "text": [
      "(12140, 4)\n"
     ]
    },
    {
     "data": {
      "text/html": [
       "<div>\n",
       "<style scoped>\n",
       "    .dataframe tbody tr th:only-of-type {\n",
       "        vertical-align: middle;\n",
       "    }\n",
       "\n",
       "    .dataframe tbody tr th {\n",
       "        vertical-align: top;\n",
       "    }\n",
       "\n",
       "    .dataframe thead th {\n",
       "        text-align: right;\n",
       "    }\n",
       "</style>\n",
       "<table border=\"1\" class=\"dataframe\">\n",
       "  <thead>\n",
       "    <tr style=\"text-align: right;\">\n",
       "      <th></th>\n",
       "      <th>Name</th>\n",
       "      <th>hate</th>\n",
       "      <th>text</th>\n",
       "      <th>object</th>\n",
       "    </tr>\n",
       "  </thead>\n",
       "  <tbody>\n",
       "    <tr>\n",
       "      <th>0</th>\n",
       "      <td>08291.png</td>\n",
       "      <td>1</td>\n",
       "      <td>text_annotations {\\n  locale: \"en\"\\n  descript...</td>\n",
       "      <td>localized_object_annotations {\\n  mid: \"/m/01g...</td>\n",
       "    </tr>\n",
       "    <tr>\n",
       "      <th>1</th>\n",
       "      <td>46971.png</td>\n",
       "      <td>1</td>\n",
       "      <td>text_annotations {\\n  locale: \"en\"\\n  descript...</td>\n",
       "      <td>localized_object_annotations {\\n  mid: \"/m/0jy...</td>\n",
       "    </tr>\n",
       "    <tr>\n",
       "      <th>2</th>\n",
       "      <td>03745.png</td>\n",
       "      <td>1</td>\n",
       "      <td>text_annotations {\\n  locale: \"en\"\\n  descript...</td>\n",
       "      <td>localized_object_annotations {\\n  mid: \"/m/01g...</td>\n",
       "    </tr>\n",
       "    <tr>\n",
       "      <th>3</th>\n",
       "      <td>83745.png</td>\n",
       "      <td>1</td>\n",
       "      <td>text_annotations {\\n  locale: \"en\"\\n  descript...</td>\n",
       "      <td>localized_object_annotations {\\n  mid: \"/j/5qg...</td>\n",
       "    </tr>\n",
       "    <tr>\n",
       "      <th>4</th>\n",
       "      <td>80243.png</td>\n",
       "      <td>1</td>\n",
       "      <td>text_annotations {\\n  locale: \"en\"\\n  descript...</td>\n",
       "      <td>localized_object_annotations {\\n  mid: \"/m/01g...</td>\n",
       "    </tr>\n",
       "  </tbody>\n",
       "</table>\n",
       "</div>"
      ],
      "text/plain": [
       "        Name  hate                                               text  \\\n",
       "0  08291.png     1  text_annotations {\\n  locale: \"en\"\\n  descript...   \n",
       "1  46971.png     1  text_annotations {\\n  locale: \"en\"\\n  descript...   \n",
       "2  03745.png     1  text_annotations {\\n  locale: \"en\"\\n  descript...   \n",
       "3  83745.png     1  text_annotations {\\n  locale: \"en\"\\n  descript...   \n",
       "4  80243.png     1  text_annotations {\\n  locale: \"en\"\\n  descript...   \n",
       "\n",
       "                                              object  \n",
       "0  localized_object_annotations {\\n  mid: \"/m/01g...  \n",
       "1  localized_object_annotations {\\n  mid: \"/m/0jy...  \n",
       "2  localized_object_annotations {\\n  mid: \"/m/01g...  \n",
       "3  localized_object_annotations {\\n  mid: \"/j/5qg...  \n",
       "4  localized_object_annotations {\\n  mid: \"/m/01g...  "
      ]
     },
     "execution_count": 1,
     "metadata": {},
     "output_type": "execute_result"
    }
   ],
   "source": [
    "import pandas as pd\n",
    "# read all csv files for facebook data set\n",
    "df_1=pd.read_csv(\"https://raw.githubusercontent.com/codepharmer/AIM-5011-NLP-Final-Project/main/data/processed/google_API_response/facebook_images_API_response_1.csv\")\n",
    "df_2=pd.read_csv(\"https://raw.githubusercontent.com/codepharmer/AIM-5011-NLP-Final-Project/main/data/processed/google_API_response/facebook_images_API_response_2.csv\")\n",
    "df_3=pd.read_csv(\"https://raw.githubusercontent.com/codepharmer/AIM-5011-NLP-Final-Project/main/data/processed/google_API_response/facebook_images_API_response_3.csv\")\n",
    "df_4=pd.read_csv(\"https://raw.githubusercontent.com/codepharmer/AIM-5011-NLP-Final-Project/main/data/processed/google_API_response/facebook_images_API_response_4.csv\")\n",
    "df_5=pd.read_csv(\"https://raw.githubusercontent.com/codepharmer/AIM-5011-NLP-Final-Project/main/data/processed/google_API_response/facebook_images_API_response_5.csv\")\n",
    "df_6=pd.read_csv(\"https://raw.githubusercontent.com/codepharmer/AIM-5011-NLP-Final-Project/main/data/processed/google_API_response/facebook_images_API_response_6.csv\")\n",
    "df_7=pd.read_csv(\"https://raw.githubusercontent.com/codepharmer/AIM-5011-NLP-Final-Project/main/data/processed/google_API_response/facebook_images_API_response_7.csv\")\n",
    "df_8=pd.read_csv(\"https://raw.githubusercontent.com/codepharmer/AIM-5011-NLP-Final-Project/main/data/processed/google_API_response/facebook_images_API_response_8.csv\")\n",
    "df_9=pd.read_csv(\"https://raw.githubusercontent.com/codepharmer/AIM-5011-NLP-Final-Project/main/data/processed/google_API_response/facebook_images_API_response_9.csv\")\n",
    "df_10=pd.read_csv(\"https://raw.githubusercontent.com/codepharmer/AIM-5011-NLP-Final-Project/main/data/processed/google_API_response/facebook_images_API_response_10.csv\")\n",
    "\n",
    "# Combine all CSV files\n",
    "df=pd.concat([df_1,df_2,df_3,df_4,df_5,df_6,df_7,df_8,df_9,df_10])\n",
    "# view dataset\n",
    "print(df.shape)\n",
    "df.head()"
   ]
  },
  {
   "cell_type": "code",
   "execution_count": 3,
   "id": "b0cdcdc3",
   "metadata": {},
   "outputs": [
    {
     "data": {
      "text/html": [
       "<div>\n",
       "<style scoped>\n",
       "    .dataframe tbody tr th:only-of-type {\n",
       "        vertical-align: middle;\n",
       "    }\n",
       "\n",
       "    .dataframe tbody tr th {\n",
       "        vertical-align: top;\n",
       "    }\n",
       "\n",
       "    .dataframe thead th {\n",
       "        text-align: right;\n",
       "    }\n",
       "</style>\n",
       "<table border=\"1\" class=\"dataframe\">\n",
       "  <thead>\n",
       "    <tr style=\"text-align: right;\">\n",
       "      <th></th>\n",
       "      <th>Name</th>\n",
       "      <th>hate</th>\n",
       "      <th>text</th>\n",
       "      <th>object</th>\n",
       "    </tr>\n",
       "  </thead>\n",
       "  <tbody>\n",
       "    <tr>\n",
       "      <th>0</th>\n",
       "      <td>08291.png</td>\n",
       "      <td>1</td>\n",
       "      <td>text_annotations {\\n  locale: \"en\"\\n  descript...</td>\n",
       "      <td>localized_object_annotations {\n",
       "  mid: \"/m/01g3...</td>\n",
       "    </tr>\n",
       "    <tr>\n",
       "      <th>1</th>\n",
       "      <td>46971.png</td>\n",
       "      <td>1</td>\n",
       "      <td>text_annotations {\\n  locale: \"en\"\\n  descript...</td>\n",
       "      <td>localized_object_annotations {\n",
       "  mid: \"/m/0jyf...</td>\n",
       "    </tr>\n",
       "    <tr>\n",
       "      <th>2</th>\n",
       "      <td>03745.png</td>\n",
       "      <td>1</td>\n",
       "      <td>text_annotations {\\n  locale: \"en\"\\n  descript...</td>\n",
       "      <td>localized_object_annotations {\n",
       "  mid: \"/m/01g3...</td>\n",
       "    </tr>\n",
       "    <tr>\n",
       "      <th>3</th>\n",
       "      <td>83745.png</td>\n",
       "      <td>1</td>\n",
       "      <td>text_annotations {\\n  locale: \"en\"\\n  descript...</td>\n",
       "      <td>localized_object_annotations {\n",
       "  mid: \"/j/5qg9...</td>\n",
       "    </tr>\n",
       "    <tr>\n",
       "      <th>4</th>\n",
       "      <td>80243.png</td>\n",
       "      <td>1</td>\n",
       "      <td>text_annotations {\\n  locale: \"en\"\\n  descript...</td>\n",
       "      <td>localized_object_annotations {\n",
       "  mid: \"/m/01g3...</td>\n",
       "    </tr>\n",
       "  </tbody>\n",
       "</table>\n",
       "</div>"
      ],
      "text/plain": [
       "        Name  hate                                               text  \\\n",
       "0  08291.png     1  text_annotations {\\n  locale: \"en\"\\n  descript...   \n",
       "1  46971.png     1  text_annotations {\\n  locale: \"en\"\\n  descript...   \n",
       "2  03745.png     1  text_annotations {\\n  locale: \"en\"\\n  descript...   \n",
       "3  83745.png     1  text_annotations {\\n  locale: \"en\"\\n  descript...   \n",
       "4  80243.png     1  text_annotations {\\n  locale: \"en\"\\n  descript...   \n",
       "\n",
       "                                              object  \n",
       "0  localized_object_annotations {\n",
       "  mid: \"/m/01g3...  \n",
       "1  localized_object_annotations {\n",
       "  mid: \"/m/0jyf...  \n",
       "2  localized_object_annotations {\n",
       "  mid: \"/m/01g3...  \n",
       "3  localized_object_annotations {\n",
       "  mid: \"/j/5qg9...  \n",
       "4  localized_object_annotations {\n",
       "  mid: \"/m/01g3...  "
      ]
     },
     "execution_count": 3,
     "metadata": {},
     "output_type": "execute_result"
    }
   ],
   "source": [
    "# reste index\n",
    "df=df.reset_index(drop=True)\n",
    "# Modify the data type of object columns to string\n",
    "df.object=df.object.astype('string')\n",
    "# sanity check\n",
    "df.head()"
   ]
  },
  {
   "cell_type": "code",
   "execution_count": 4,
   "id": "008ebde2",
   "metadata": {},
   "outputs": [
    {
     "data": {
      "text/plain": [
       "'localized_object_annotations {\\n  mid: \"/m/01g317\"\\n  name: \"Person\"\\n  score: 0.8943897485733032\\n  bounding_poly {\\n    normalized_vertices {\\n      x: 0.27208825945854187\\n      y: 0.1178608313202858\\n    }\\n    normalized_vertices {\\n      x: 0.5913463830947876\\n      y: 0.1178608313202858\\n    }\\n    normalized_vertices {\\n      x: 0.5913463830947876\\n      y: 0.9664241671562195\\n    }\\n    normalized_vertices {\\n      x: 0.27208825945854187\\n      y: 0.9664241671562195\\n    }\\n  }\\n}\\nlocalized_object_annotations {\\n  mid: \"/m/01g317\"\\n  name: \"Person\"\\n  score: 0.8912197351455688\\n  bounding_poly {\\n    normalized_vertices {\\n      x: 0.6222532391548157\\n      y: 0.00870607141405344\\n    }\\n    normalized_vertices {\\n      x: 0.9596083760261536\\n      y: 0.00870607141405344\\n    }\\n    normalized_vertices {\\n      x: 0.9596083760261536\\n      y: 0.3593524992465973\\n    }\\n    normalized_vertices {\\n      x: 0.6222532391548157\\n      y: 0.3593524992465973\\n    }\\n  }\\n}\\nlocalized_object_annotations {\\n  mid: \"/m/01g317\"\\n  name: \"Person\"\\n  score: 0.8860273361206055\\n  bounding_poly {\\n    normalized_vertices {\\n      x: 0.05606709420681\\n    }\\n    normalized_vertices {\\n      x: 0.3550044298171997\\n    }\\n    normalized_vertices {\\n      x: 0.3550044298171997\\n      y: 0.9067404270172119\\n    }\\n    normalized_vertices {\\n      x: 0.05606709420681\\n      y: 0.9067404270172119\\n    }\\n  }\\n}\\nlocalized_object_annotations {\\n  mid: \"/m/01g317\"\\n  name: \"Person\"\\n  score: 0.8652094602584839\\n  bounding_poly {\\n    normalized_vertices {\\n      x: 0.5822833776473999\\n      y: 0.19254134595394135\\n    }\\n    normalized_vertices {\\n      x: 0.9610273838043213\\n      y: 0.19254134595394135\\n    }\\n    normalized_vertices {\\n      x: 0.9610273838043213\\n      y: 0.9882654547691345\\n    }\\n    normalized_vertices {\\n      x: 0.5822833776473999\\n      y: 0.9882654547691345\\n    }\\n  }\\n}\\nlocalized_object_annotations {\\n  mid: \"/m/0hf58v5\"\\n  name: \"Luggage & bags\"\\n  score: 0.8320221900939941\\n  bounding_poly {\\n    normalized_vertices {\\n      x: 0.12238246947526932\\n      y: 0.058708593249320984\\n    }\\n    normalized_vertices {\\n      x: 0.3464464843273163\\n      y: 0.058708593249320984\\n    }\\n    normalized_vertices {\\n      x: 0.3464464843273163\\n      y: 0.3257872462272644\\n    }\\n    normalized_vertices {\\n      x: 0.12238246947526932\\n      y: 0.3257872462272644\\n    }\\n  }\\n}\\nlocalized_object_annotations {\\n  mid: \"/m/06rrc\"\\n  name: \"Shoe\"\\n  score: 0.8094931244850159\\n  bounding_poly {\\n    normalized_vertices {\\n      x: 0.13167093694210052\\n      y: 0.7061684727668762\\n    }\\n    normalized_vertices {\\n      x: 0.20865686237812042\\n      y: 0.7061684727668762\\n    }\\n    normalized_vertices {\\n      x: 0.20865686237812042\\n      y: 0.8871724605560303\\n    }\\n    normalized_vertices {\\n      x: 0.13167093694210052\\n      y: 0.8871724605560303\\n    }\\n  }\\n}\\nlocalized_object_annotations {\\n  mid: \"/m/06rrc\"\\n  name: \"Shoe\"\\n  score: 0.7851869463920593\\n  bounding_poly {\\n    normalized_vertices {\\n      x: 0.2454393357038498\\n      y: 0.6618832945823669\\n    }\\n    normalized_vertices {\\n      x: 0.32313451170921326\\n      y: 0.6618832945823669\\n    }\\n    normalized_vertices {\\n      x: 0.32313451170921326\\n      y: 0.882577657699585\\n    }\\n    normalized_vertices {\\n      x: 0.2454393357038498\\n      y: 0.882577657699585\\n    }\\n  }\\n}\\nlocalized_object_annotations {\\n  mid: \"/m/01g317\"\\n  name: \"Person\"\\n  score: 0.6946554780006409\\n  bounding_poly {\\n    normalized_vertices {\\n      x: 0.27239125967025757\\n      y: 0.15316933393478394\\n    }\\n    normalized_vertices {\\n      x: 0.5938664078712463\\n      y: 0.15316933393478394\\n    }\\n    normalized_vertices {\\n      x: 0.5938664078712463\\n      y: 0.9962020516395569\\n    }\\n    normalized_vertices {\\n      x: 0.27239125967025757\\n      y: 0.9962020516395569\\n    }\\n  }\\n}\\nlocalized_object_annotations {\\n  mid: \"/m/02wbm\"\\n  name: \"Food\"\\n  score: 0.5521503686904907\\n  bounding_poly {\\n    normalized_vertices {\\n      x: 0.2984689176082611\\n      y: 0.8934745788574219\\n    }\\n    normalized_vertices {\\n      x: 0.5238680243492126\\n      y: 0.8934745788574219\\n    }\\n    normalized_vertices {\\n      x: 0.5238680243492126\\n      y: 0.9962475299835205\\n    }\\n    normalized_vertices {\\n      x: 0.2984689176082611\\n      y: 0.9962475299835205\\n    }\\n  }\\n}\\nlocalized_object_annotations {\\n  mid: \"/m/09j5n\"\\n  name: \"Footwear\"\\n  score: 0.5397268533706665\\n  bounding_poly {\\n    normalized_vertices {\\n      x: 0.13225850462913513\\n      y: 0.6989538669586182\\n    }\\n    normalized_vertices {\\n      x: 0.2105165719985962\\n      y: 0.6989538669586182\\n    }\\n    normalized_vertices {\\n      x: 0.2105165719985962\\n      y: 0.8862783908843994\\n    }\\n    normalized_vertices {\\n      x: 0.13225850462913513\\n      y: 0.8862783908843994\\n    }\\n  }\\n}\\n'"
      ]
     },
     "execution_count": 4,
     "metadata": {},
     "output_type": "execute_result"
    }
   ],
   "source": [
    "# check object\n",
    "df.object[0]"
   ]
  },
  {
   "cell_type": "markdown",
   "id": "90cef72f",
   "metadata": {},
   "source": [
    "By checking the 'object' column example, we found the information needed needs to be extracted from a large text string after the key 'name:'. Therefore, regular experession will be used for the meme object info extraction."
   ]
  },
  {
   "cell_type": "code",
   "execution_count": 5,
   "id": "1906bc78",
   "metadata": {},
   "outputs": [],
   "source": [
    "import re\n",
    "import numpy as np\n",
    "def extractor(s):\n",
    "    '''This function is used to extractor objects name form object columns'''\n",
    "    if pd.isnull(s):\n",
    "        return []\n",
    "    pattern=re.compile('name: \"(.+)\"')\n",
    "    result=pattern.findall(s)\n",
    "    return result"
   ]
  },
  {
   "cell_type": "code",
   "execution_count": 6,
   "id": "56b8408f",
   "metadata": {},
   "outputs": [
    {
     "data": {
      "text/plain": [
       "['Person',\n",
       " 'Person',\n",
       " 'Person',\n",
       " 'Person',\n",
       " 'Luggage & bags',\n",
       " 'Shoe',\n",
       " 'Shoe',\n",
       " 'Person',\n",
       " 'Food',\n",
       " 'Footwear']"
      ]
     },
     "execution_count": 6,
     "metadata": {},
     "output_type": "execute_result"
    }
   ],
   "source": [
    "# check example\n",
    "extractor(df.object[0])"
   ]
  },
  {
   "cell_type": "markdown",
   "id": "36e070cb",
   "metadata": {},
   "source": [
    "After extraction the useful information, the original object raw text will be replaced by the new lists."
   ]
  },
  {
   "cell_type": "code",
   "execution_count": 7,
   "id": "35571d73",
   "metadata": {},
   "outputs": [
    {
     "data": {
      "text/html": [
       "<div>\n",
       "<style scoped>\n",
       "    .dataframe tbody tr th:only-of-type {\n",
       "        vertical-align: middle;\n",
       "    }\n",
       "\n",
       "    .dataframe tbody tr th {\n",
       "        vertical-align: top;\n",
       "    }\n",
       "\n",
       "    .dataframe thead th {\n",
       "        text-align: right;\n",
       "    }\n",
       "</style>\n",
       "<table border=\"1\" class=\"dataframe\">\n",
       "  <thead>\n",
       "    <tr style=\"text-align: right;\">\n",
       "      <th></th>\n",
       "      <th>Name</th>\n",
       "      <th>hate</th>\n",
       "      <th>text</th>\n",
       "      <th>object_name</th>\n",
       "    </tr>\n",
       "  </thead>\n",
       "  <tbody>\n",
       "    <tr>\n",
       "      <th>0</th>\n",
       "      <td>08291.png</td>\n",
       "      <td>1</td>\n",
       "      <td>text_annotations {\\n  locale: \"en\"\\n  descript...</td>\n",
       "      <td>[Person, Person, Person, Person, Luggage &amp; bag...</td>\n",
       "    </tr>\n",
       "    <tr>\n",
       "      <th>1</th>\n",
       "      <td>46971.png</td>\n",
       "      <td>1</td>\n",
       "      <td>text_annotations {\\n  locale: \"en\"\\n  descript...</td>\n",
       "      <td>[Glasses, Person, Person, Person, Necklace, Pe...</td>\n",
       "    </tr>\n",
       "    <tr>\n",
       "      <th>2</th>\n",
       "      <td>03745.png</td>\n",
       "      <td>1</td>\n",
       "      <td>text_annotations {\\n  locale: \"en\"\\n  descript...</td>\n",
       "      <td>[Person, Top, Luggage &amp; bags]</td>\n",
       "    </tr>\n",
       "    <tr>\n",
       "      <th>3</th>\n",
       "      <td>83745.png</td>\n",
       "      <td>1</td>\n",
       "      <td>text_annotations {\\n  locale: \"en\"\\n  descript...</td>\n",
       "      <td>[Packaged goods]</td>\n",
       "    </tr>\n",
       "    <tr>\n",
       "      <th>4</th>\n",
       "      <td>80243.png</td>\n",
       "      <td>1</td>\n",
       "      <td>text_annotations {\\n  locale: \"en\"\\n  descript...</td>\n",
       "      <td>[Person, Person, Person, Person, Person, Cloth...</td>\n",
       "    </tr>\n",
       "  </tbody>\n",
       "</table>\n",
       "</div>"
      ],
      "text/plain": [
       "        Name  hate                                               text  \\\n",
       "0  08291.png     1  text_annotations {\\n  locale: \"en\"\\n  descript...   \n",
       "1  46971.png     1  text_annotations {\\n  locale: \"en\"\\n  descript...   \n",
       "2  03745.png     1  text_annotations {\\n  locale: \"en\"\\n  descript...   \n",
       "3  83745.png     1  text_annotations {\\n  locale: \"en\"\\n  descript...   \n",
       "4  80243.png     1  text_annotations {\\n  locale: \"en\"\\n  descript...   \n",
       "\n",
       "                                         object_name  \n",
       "0  [Person, Person, Person, Person, Luggage & bag...  \n",
       "1  [Glasses, Person, Person, Person, Necklace, Pe...  \n",
       "2                      [Person, Top, Luggage & bags]  \n",
       "3                                   [Packaged goods]  \n",
       "4  [Person, Person, Person, Person, Person, Cloth...  "
      ]
     },
     "execution_count": 7,
     "metadata": {},
     "output_type": "execute_result"
    }
   ],
   "source": [
    "obj_list=[]\n",
    "# process items in column 'object' one by one \n",
    "for i in range(len(df)):\n",
    "    # extractor name\n",
    "    obj_list.append(extractor(df.object[i]))\n",
    "    extractor(df.object[i])\n",
    "df['object_name']=obj_list\n",
    "# drop column 'object'\n",
    "df=df.drop(['object'],axis=1)\n",
    "# check\n",
    "df.head()"
   ]
  },
  {
   "cell_type": "markdown",
   "id": "a195a913",
   "metadata": {},
   "source": [
    "### Naive Bayes Model\n",
    "We will use nltk to create the Naive Bayes model. First of all, the words in the object_name column needs to be labeled as hate or not hate."
   ]
  },
  {
   "cell_type": "code",
   "execution_count": 8,
   "id": "f47ac858",
   "metadata": {},
   "outputs": [],
   "source": [
    "def feature_map(words):\n",
    "    '''this function is used to map word list to dictionary for Naive Bayes classfier'''\n",
    "    words_dictionary = dict([word, True] for word in words)\n",
    "    return words_dictionary\n",
    "\n",
    "# load the naive bayes classifier + the classify library\n",
    "from nltk import classify\n",
    "from nltk import NaiveBayesClassifier\n",
    "\n",
    "# get train feature set\n",
    "train_set = []\n",
    "for i in range(len(df)):\n",
    "    if(df.hate[i]==1):\n",
    "        train_set.append((feature_map(df.object_name[i]), 'hate'))\n",
    "    else:\n",
    "        train_set.append((feature_map(df.object_name[i]), 'not hate'))"
   ]
  },
  {
   "cell_type": "markdown",
   "id": "52fe8dca",
   "metadata": {},
   "source": [
    "The the classifier was set and trained with the labeled object names."
   ]
  },
  {
   "cell_type": "code",
   "execution_count": 9,
   "id": "3dd90d6f",
   "metadata": {},
   "outputs": [
    {
     "name": "stdout",
     "output_type": "stream",
     "text": [
      "Most Informative Features\n",
      "                  Insect = True           not ha : hate   =      7.7 : 1.0\n",
      "              Dishwasher = True           not ha : hate   =      6.9 : 1.0\n",
      "             Baked goods = True           not ha : hate   =      4.1 : 1.0\n",
      "                Squirrel = True           not ha : hate   =      4.1 : 1.0\n",
      "              Brown bear = True           not ha : hate   =      3.7 : 1.0\n",
      "                     Box = True             hate : not ha =      3.6 : 1.0\n",
      "               Miniskirt = True           not ha : hate   =      3.3 : 1.0\n",
      "              Basketball = True             hate : not ha =      3.0 : 1.0\n",
      "                   Sheep = True           not ha : hate   =      3.0 : 1.0\n",
      "                    Cart = True             hate : not ha =      2.8 : 1.0\n",
      "                 Goggles = True             hate : not ha =      2.8 : 1.0\n",
      "                 Hot dog = True             hate : not ha =      2.8 : 1.0\n",
      "                 Penguin = True             hate : not ha =      2.8 : 1.0\n",
      "                Sombrero = True             hate : not ha =      2.8 : 1.0\n",
      "                    Lion = True           not ha : hate   =      2.8 : 1.0\n",
      "                  Flower = True           not ha : hate   =      2.7 : 1.0\n",
      "                    Lamp = True             hate : not ha =      2.7 : 1.0\n",
      "                   Fruit = True           not ha : hate   =      2.6 : 1.0\n",
      "                    Oven = True           not ha : hate   =      2.6 : 1.0\n",
      "              Teddy bear = True           not ha : hate   =      2.6 : 1.0\n",
      "                Backpack = True             hate : not ha =      2.4 : 1.0\n",
      "         Waste container = True             hate : not ha =      2.4 : 1.0\n",
      "                    Bird = True           not ha : hate   =      2.3 : 1.0\n",
      "          Home appliance = True           not ha : hate   =      2.3 : 1.0\n",
      "                    Drum = True           not ha : hate   =      2.2 : 1.0\n",
      "                  Fedora = True             hate : not ha =      2.2 : 1.0\n",
      "                Football = True             hate : not ha =      2.2 : 1.0\n",
      "            Punching bag = True             hate : not ha =      2.2 : 1.0\n",
      "           License plate = True           not ha : hate   =      2.2 : 1.0\n",
      "                   Mouse = True           not ha : hate   =      2.2 : 1.0\n",
      "None\n"
     ]
    }
   ],
   "source": [
    "# train naive bayes clssfier on train_set        \n",
    "classifier = NaiveBayesClassifier.train(train_set)\n",
    "\n",
    "# display the 30 most informative features as determined by the Naive Bayes classifier\n",
    "print (classifier.show_most_informative_features(30))"
   ]
  },
  {
   "cell_type": "markdown",
   "id": "74f4a1fb",
   "metadata": {},
   "source": [
    "Generally, we can find, hate memes are more likely to show objects such as boxes, basketball, penguin, carts and so on. Now we can evaluate the model with ROC curve and confusion matrix."
   ]
  },
  {
   "cell_type": "code",
   "execution_count": 10,
   "id": "bb4738e5",
   "metadata": {},
   "outputs": [],
   "source": [
    "from sklearn.metrics import roc_curve,auc\n",
    "import numpy as np\n",
    "import matplotlib.pyplot as plt \n",
    "\n",
    "def plot_roc(x,y):\n",
    "    '''this function is use to plot roc curve and find auc'''\n",
    "    fpr, tpr, _ =roc_curve(x,y)\n",
    "    roc_auc = auc(fpr, tpr)\n",
    "\n",
    "    plt.figure()\n",
    "    lw = 2\n",
    "    plt.plot(fpr, tpr, color='darkorange',\n",
    "             lw=lw, label='ROC curve (auc = %0.2f)' % roc_auc)\n",
    "    plt.plot([0, 1], [0, 1], color='navy', lw=lw, linestyle='--')\n",
    "    plt.xlim([0.0, 1.0])\n",
    "    plt.ylim([0.0, 1.05])\n",
    "    plt.xlabel('False Positive Rate')\n",
    "    plt.ylabel('True Positive Rate')\n",
    "    plt.title('Receiver operating characteristic example')\n",
    "    plt.legend(loc=\"lower right\")\n",
    "    plt.show()"
   ]
  },
  {
   "cell_type": "code",
   "execution_count": 11,
   "id": "0e867e0b",
   "metadata": {},
   "outputs": [],
   "source": [
    "from sklearn.metrics import confusion_matrix\n",
    "import seaborn as sns\n",
    "\n",
    "def plot_cm(x,y):\n",
    "    '''this function is used to plot confusion matrix'''\n",
    "    cm_bow = confusion_matrix(x,y)\n",
    "    ax=sns.heatmap(cm_bow,fmt='g',annot=True,cmap='Blues') \n",
    "    ax.set_title('confusion matrix') \n",
    "    ax.set_xlabel('predict') \n",
    "    ax.set_ylabel('true') \n",
    "    plt.show()"
   ]
  },
  {
   "cell_type": "code",
   "execution_count": 12,
   "id": "6a2c38a4",
   "metadata": {},
   "outputs": [
    {
     "data": {
      "image/png": "[encoded data removed]",
      "text/plain": [
       "<Figure size 432x288 with 1 Axes>"
      ]
     },
     "metadata": {
      "needs_background": "light"
     },
     "output_type": "display_data"
    }
   ],
   "source": [
    "y_pred=[]\n",
    "# Use the trained naive Bayes classifier to classify the test review set one by one\n",
    "# put the prediction result into y_pred\n",
    "for t in df.object_name:\n",
    "    # use our feature map function to map features \n",
    "    features = feature_map(t)\n",
    "    # apply the classifier to the maped features \n",
    "    if(classifier.classify(features)=='hate'):\n",
    "        y_pred.append(1)\n",
    "    else:\n",
    "        y_pred.append(0)\n",
    "\n",
    "# plot roc\n",
    "plot_roc(df.hate, y_pred)"
   ]
  },
  {
   "cell_type": "code",
   "execution_count": 13,
   "id": "d4bfa7ce",
   "metadata": {},
   "outputs": [
    {
     "data": {
      "image/png": "[encoded data removed]",
      "text/plain": [
       "<Figure size 432x288 with 2 Axes>"
      ]
     },
     "metadata": {
      "needs_background": "light"
     },
     "output_type": "display_data"
    }
   ],
   "source": [
    "plot_cm(df.hate, y_pred)"
   ]
  },
  {
   "cell_type": "code",
   "execution_count": 14,
   "id": "304349d3",
   "metadata": {},
   "outputs": [
    {
     "data": {
      "text/plain": [
       "0.6305601317957167"
      ]
     },
     "execution_count": 14,
     "metadata": {},
     "output_type": "execute_result"
    }
   ],
   "source": [
    "from sklearn.metrics import accuracy_score\n",
    "accuracy_score(df.hate, y_pred)"
   ]
  },
  {
   "cell_type": "markdown",
   "id": "899510ca",
   "metadata": {},
   "source": [
    "### Testing the Model\n",
    "Now we can create a new dataframe based on our self-labeled dataset. "
   ]
  },
  {
   "cell_type": "code",
   "execution_count": 15,
   "id": "bd6f48c7",
   "metadata": {},
   "outputs": [
    {
     "data": {
      "text/html": [
       "<div>\n",
       "<style scoped>\n",
       "    .dataframe tbody tr th:only-of-type {\n",
       "        vertical-align: middle;\n",
       "    }\n",
       "\n",
       "    .dataframe tbody tr th {\n",
       "        vertical-align: top;\n",
       "    }\n",
       "\n",
       "    .dataframe thead th {\n",
       "        text-align: right;\n",
       "    }\n",
       "</style>\n",
       "<table border=\"1\" class=\"dataframe\">\n",
       "  <thead>\n",
       "    <tr style=\"text-align: right;\">\n",
       "      <th></th>\n",
       "      <th>image_name</th>\n",
       "      <th>object</th>\n",
       "      <th>label</th>\n",
       "    </tr>\n",
       "  </thead>\n",
       "  <tbody>\n",
       "    <tr>\n",
       "      <th>0</th>\n",
       "      <td>003a75cf599e9b24b6951f731eaee7d2.jpeg</td>\n",
       "      <td>['Person', 'Clothing']</td>\n",
       "      <td>0</td>\n",
       "    </tr>\n",
       "    <tr>\n",
       "      <th>1</th>\n",
       "      <td>027-funny-animal-pictures-with-captions-013-pa...</td>\n",
       "      <td>['Panda', 'Panda', 'Panda', 'Animal']</td>\n",
       "      <td>0</td>\n",
       "    </tr>\n",
       "    <tr>\n",
       "      <th>2</th>\n",
       "      <td>098f8e5f97e5668547e70ad803e27923--macros-shake...</td>\n",
       "      <td>['Person', 'Hat', 'Clothing']</td>\n",
       "      <td>1</td>\n",
       "    </tr>\n",
       "    <tr>\n",
       "      <th>3</th>\n",
       "      <td>0caa2605cd53a61310a948e08a9aedbc.png</td>\n",
       "      <td>['Person', 'Clothing']</td>\n",
       "      <td>1</td>\n",
       "    </tr>\n",
       "    <tr>\n",
       "      <th>4</th>\n",
       "      <td>0rockysuperman.jpg</td>\n",
       "      <td>['Dog']</td>\n",
       "      <td>0</td>\n",
       "    </tr>\n",
       "  </tbody>\n",
       "</table>\n",
       "</div>"
      ],
      "text/plain": [
       "                                          image_name  \\\n",
       "0              003a75cf599e9b24b6951f731eaee7d2.jpeg   \n",
       "1  027-funny-animal-pictures-with-captions-013-pa...   \n",
       "2  098f8e5f97e5668547e70ad803e27923--macros-shake...   \n",
       "3               0caa2605cd53a61310a948e08a9aedbc.png   \n",
       "4                                 0rockysuperman.jpg   \n",
       "\n",
       "                                  object  label  \n",
       "0                 ['Person', 'Clothing']      0  \n",
       "1  ['Panda', 'Panda', 'Panda', 'Animal']      0  \n",
       "2          ['Person', 'Hat', 'Clothing']      1  \n",
       "3                 ['Person', 'Clothing']      1  \n",
       "4                                ['Dog']      0  "
      ]
     },
     "execution_count": 15,
     "metadata": {},
     "output_type": "execute_result"
    }
   ],
   "source": [
    "new_df=pd.read_csv(r'https://raw.githubusercontent.com/huchuyun/AIM-5011-NLP-Final-Project/main/data/processed/validation_set_object_set.csv')\n",
    "new_df.head()"
   ]
  },
  {
   "cell_type": "markdown",
   "id": "a0a65f75",
   "metadata": {},
   "source": [
    "The prediction results will be put in a new list. "
   ]
  },
  {
   "cell_type": "code",
   "execution_count": 17,
   "id": "7a280353",
   "metadata": {},
   "outputs": [],
   "source": [
    "y_pred_new=[]\n",
    "# Use the trained naive Bayes classifier to classify the test review set one by one\n",
    "# put the prediction result into y_pred\n",
    "for h in new_df.object:\n",
    "    # use our feature map function to map features \n",
    "    features = feature_map(h)\n",
    "    # apply the classifier to the maped features \n",
    "    if(classifier.classify(features)=='hate'):\n",
    "        y_pred_new.append(1)\n",
    "    else:\n",
    "        y_pred_new.append(0)"
   ]
  },
  {
   "cell_type": "markdown",
   "id": "ccb39acf",
   "metadata": {},
   "source": [
    "The ROC curve, confusion metrix and accuracy score will be created as below."
   ]
  },
  {
   "cell_type": "code",
   "execution_count": 18,
   "id": "5ea93064",
   "metadata": {},
   "outputs": [
    {
     "data": {
      "image/png": "[encoded data removed]",
      "text/plain": [
       "<Figure size 432x288 with 1 Axes>"
      ]
     },
     "metadata": {
      "needs_background": "light"
     },
     "output_type": "display_data"
    }
   ],
   "source": [
    "# plot roc\n",
    "plot_roc(new_df.label, y_pred_new)"
   ]
  },
  {
   "cell_type": "code",
   "execution_count": 19,
   "id": "37b8fcb5",
   "metadata": {},
   "outputs": [
    {
     "data": {
      "image/png": "[encoded data removed]",
      "text/plain": [
       "<Figure size 432x288 with 2 Axes>"
      ]
     },
     "metadata": {
      "needs_background": "light"
     },
     "output_type": "display_data"
    }
   ],
   "source": [
    "plot_cm(new_df.label, y_pred_new)"
   ]
  },
  {
   "cell_type": "code",
   "execution_count": 20,
   "id": "ccda6f20",
   "metadata": {},
   "outputs": [
    {
     "data": {
      "text/plain": [
       "0.9234234234234234"
      ]
     },
     "execution_count": 20,
     "metadata": {},
     "output_type": "execute_result"
    }
   ],
   "source": [
    "accuracy_score(new_df.label, y_pred_new)"
   ]
  },
  {
   "cell_type": "markdown",
   "id": "0beb7930",
   "metadata": {},
   "source": [
    "The accuracy is high due to the imbalance of our data. According to the result, it shows all predictions are no hate. "
   ]
  },
  {
   "cell_type": "code",
   "execution_count": 22,
   "id": "97b6a043",
   "metadata": {},
   "outputs": [],
   "source": [
    "df_prediction=new_df[['image_name', 'label']]"
   ]
  },
  {
   "cell_type": "code",
   "execution_count": 23,
   "id": "92ec80ab",
   "metadata": {},
   "outputs": [],
   "source": [
    "df_prediction['prediction']=pd.DataFrame(y_pred_new)"
   ]
  },
  {
   "cell_type": "code",
   "execution_count": 26,
   "id": "36913271",
   "metadata": {},
   "outputs": [],
   "source": [
    "# local save prediction result \n",
    "#df_prediction.to_csv(r'C:\\Users\\chenkecoco1\\Documents\\GitHub\\AIM-NN\\object_recognition.csv')"
   ]
  },
  {
   "cell_type": "code",
   "execution_count": null,
   "id": "d72d5920",
   "metadata": {},
   "outputs": [],
   "source": []
  }
 ],
 "metadata": {
  "kernelspec": {
   "display_name": "Python 3 (ipykernel)",
   "language": "python",
   "name": "python3"
  },
  "language_info": {
   "codemirror_mode": {
    "name": "ipython",
    "version": 3
   },
   "file_extension": ".py",
   "mimetype": "text/x-python",
   "name": "python",
   "nbconvert_exporter": "python",
   "pygments_lexer": "ipython3",
   "version": "3.8.5"
  }
 },
 "nbformat": 4,
 "nbformat_minor": 5
}
